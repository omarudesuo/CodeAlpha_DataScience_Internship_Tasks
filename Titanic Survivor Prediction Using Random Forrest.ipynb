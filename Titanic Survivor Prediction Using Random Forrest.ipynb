{
 "cells": [
  {
   "cell_type": "code",
   "execution_count": null,
   "id": "710a3e75",
   "metadata": {},
   "outputs": [],
   "source": [
    "import pandas as pd      \n",
    "import numpy as np\n",
    "import matplotlib.pyplot as plt"
   ]
  },
  {
   "cell_type": "code",
   "execution_count": null,
   "id": "938c79e6",
   "metadata": {},
   "outputs": [],
   "source": [
    "# Load training and test data\n",
    "train_pd = pd.read_csv('train.csv')\n",
    "test_pd = pd.read_csv('test.csv')\n",
    "display(train_pd)"
   ]
  },
  {
   "cell_type": "code",
   "execution_count": null,
   "id": "3cd6b80b",
   "metadata": {},
   "outputs": [],
   "source": [
    "# Separate target variable (Survived) from training data\n",
    "survived = train_pd['Survived']\n",
    "train_pd = train_pd.drop(['Survived'], axis=1)\n",
    "\n",
    "display(train_pd)"
   ]
  },
  {
   "cell_type": "code",
   "execution_count": null,
   "id": "d1e3f4c2",
   "metadata": {},
   "outputs": [],
   "source": [
    "# Store passenger IDs to realign predictions later\n",
    "train_idx = train_pd['PassengerId']\n",
    "test_idx = test_pd['PassengerId']"
   ]
  },
  {
   "cell_type": "code",
   "execution_count": null,
   "id": "d0bee413",
   "metadata": {},
   "outputs": [],
   "source": [
    "# Combine train and test for unified preprocessing\n",
    "combines_pd = pd.concat([train_pd, test_pd]).reset_index(drop=True)\n",
    "\n",
    "display(combines_pd)"
   ]
  },
  {
   "cell_type": "code",
   "execution_count": null,
   "id": "3fc7084b",
   "metadata": {},
   "outputs": [],
   "source": [
    "# Check for null values\n",
    "print('Null Values:')\n",
    "print(combines_pd.isnull().sum())"
   ]
  },
  {
   "cell_type": "code",
   "execution_count": null,
   "id": "24882145",
   "metadata": {},
   "outputs": [],
   "source": [
    "# --- Fill Missing Age Values Based on Pclass Median ---\n",
    "\n",
    "# Plot full age distribution\n",
    "y = combines_pd['Age'].value_counts()\n",
    "x = y.index.values\n",
    "plt.figure(figsize=(10,5))\n",
    "plt.bar(x, y)\n",
    "plt.title('All Ages')\n",
    "plt.show()\n"
   ]
  },
  {
   "cell_type": "code",
   "execution_count": null,
   "id": "26e55ab4",
   "metadata": {},
   "outputs": [],
   "source": [
    "# Age distribution per class\n",
    "class_age = combines_pd[['Pclass', 'Age']]\n",
    "for i in range(1, 4):\n",
    "    plt.figure(figsize=(10,5))\n",
    "    plt.title('Class ' + str(i))\n",
    "    y = class_age[class_age['Pclass'] == i]['Age'].value_counts()\n",
    "    x = y.index.values\n",
    "    plt.bar(x, y)\n",
    "    plt.show()\n"
   ]
  },
  {
   "cell_type": "code",
   "execution_count": null,
   "id": "28bc7cc1",
   "metadata": {},
   "outputs": [],
   "source": [
    "# Fill missing Age with median for each class\n",
    "medians = class_age.groupby('Pclass').median()\n",
    "for i in range(3):\n",
    "    idx = np.where((combines_pd['Pclass'] == i+1) & (combines_pd['Age'].isnull()))[0]\n",
    "    combines_pd.loc[idx, 'Age'] = medians.values[i][0]\n",
    "\n",
    "display(combines_pd)\n"
   ]
  },
  {
   "cell_type": "code",
   "execution_count": null,
   "id": "deb26c66",
   "metadata": {},
   "outputs": [],
   "source": [
    "# Fill missing Fare with median of similar passengers\n",
    "display(combines_pd[combines_pd['Fare'].isnull()])\n",
    "sim_fares = combines_pd[(combines_pd['Pclass'] == 3) & (combines_pd['Embarked'] == 'S')]['Fare']\n",
    "print('Median:', sim_fares.median())\n",
    "plt.hist(sim_fares)\n",
    "plt.plot()\n",
    "combines_pd['Fare'] = combines_pd['Fare'].fillna(sim_fares.median())\n"
   ]
  },
  {
   "cell_type": "code",
   "execution_count": null,
   "id": "4afd69e4",
   "metadata": {},
   "outputs": [],
   "source": [
    "# Fill missing Embarked with most common similar fare\n",
    "display(combines_pd[combines_pd['Embarked'].isnull()])\n",
    "sim_emb = combines_pd[(combines_pd['Pclass'] == 1) & (combines_pd['Fare'] >= 70) & (combines_pd['Fare'] <= 90)]['Embarked']\n",
    "print(sim_emb.value_counts())\n",
    "combines_pd['Embarked'] = combines_pd['Embarked'].fillna('C')"
   ]
  },
  {
   "cell_type": "code",
   "execution_count": null,
   "id": "70a2a18a",
   "metadata": {},
   "outputs": [],
   "source": [
    "# Process Cabin feature: keep only the first letter, fill NA with 'M'\n",
    "combines_pd['Cabin'] = combines_pd['Cabin'].fillna('M')\n",
    "combines_pd['Cabin'] = combines_pd['Cabin'].str[0]\n",
    "idx = np.where(combines_pd['Cabin'] == 'T')[0]\n",
    "combines_pd.loc[idx, 'Cabin'] = 'M'\n",
    "\n",
    "print(combines_pd.isnull().sum())\n",
    "print(combines_pd.nunique())\n"
   ]
  },
  {
   "cell_type": "code",
   "execution_count": null,
   "id": "5b8e3b7a",
   "metadata": {},
   "outputs": [],
   "source": [
    "# ----------------------------- Feature Engineering -----------------------------\n",
    "\n",
    "# Extract Titles from Names\n",
    "names = combines_pd['Name']\n",
    "last_names, titles, first_names = [], [], []\n",
    "\n",
    "for name in names:\n",
    "    if ',' not in name:\n",
    "        last_names.append('')\n",
    "    else:\n",
    "        last, name = name.split(',', 1)\n",
    "        last_names.append(last)\n",
    "    if '.' not in name:\n",
    "        titles.append('')\n",
    "    else:\n",
    "        title, first = name.split('.', 1)\n",
    "        titles.append(title)\n",
    "        first_names.append(first)"
   ]
  },
  {
   "cell_type": "code",
   "execution_count": null,
   "id": "d6d2e439",
   "metadata": {},
   "outputs": [],
   "source": [
    "# Group less common titles\n",
    "titles = np.array(titles)\n",
    "titles[np.isin(titles, ['Capt','Col','Major'])] = 'Military'\n",
    "titles[np.isin(titles, ['Don','Dona','Jonkheet','Lady','Sir','Master','the Countess'])] = 'Nobility'\n",
    "titles[np.isin(titles, ['Miss','Mlle','Ms'])] = 'Ms'\n",
    "titles[np.isin(titles, ['Mr','Mme'])] = 'Mrs'\n",
    "combines_pd['Title'] = titles\n"
   ]
  },
  {
   "cell_type": "code",
   "execution_count": null,
   "id": "36015214",
   "metadata": {},
   "outputs": [],
   "source": [
    "# Create Age Bins\n",
    "bins = np.array([0,10,20,30,40,50,60,70,80])\n",
    "combines_pd['Age_Bin'] = pd.cut(combines_pd['Age'], bins)\n"
   ]
  },
  {
   "cell_type": "code",
   "execution_count": null,
   "id": "00c51d97",
   "metadata": {},
   "outputs": [],
   "source": [
    "# Count tickets to estimate fare per person\n",
    "ticke_dict = dict(combines_pd['Ticket'].value_counts())\n",
    "combines_pd['tkt_count'] = combines_pd['Ticket'].map(ticke_dict)\n",
    "combines_pd['Fare_per_Ticket'] = combines_pd['Fare'] / combines_pd['tkt_count']\n",
    "bins = [0,20,40,60,80,150]\n",
    "combines_pd['Fare_Bin'] = pd.cut(combines_pd['Fare_per_Ticket'], bins)\n"
   ]
  },
  {
   "cell_type": "code",
   "execution_count": null,
   "id": "8275a985",
   "metadata": {},
   "outputs": [],
   "source": [
    "# Add total number of family members onboard\n",
    "combines_pd['Num_Family'] = combines_pd['SibSp'] + combines_pd['Parch'] + 1\n"
   ]
  },
  {
   "cell_type": "code",
   "execution_count": null,
   "id": "0da79d32",
   "metadata": {},
   "outputs": [],
   "source": [
    "# Drop irrelevant features\n",
    "combines_pd.drop(['Name', 'Age', 'Ticket', 'Fare', 'tkt_count', 'Fare_per_Ticket'], axis=1, inplace=True)\n"
   ]
  },
  {
   "cell_type": "code",
   "execution_count": null,
   "id": "c8354ccd",
   "metadata": {},
   "outputs": [],
   "source": [
    "# ----------------------------- Data Encoding & Modeling -----------------------------\n",
    "\n",
    "# Encode categorical values\n",
    "from sklearn.preprocessing import LabelEncoder\n",
    "label_enc = combines_pd.copy().astype(str)\n",
    "label_enc = label_enc.apply(LabelEncoder().fit_transform)\n",
    "one_hot = pd.get_dummies(label_enc, columns=['Sex', 'Embarked', 'Title'])\n"
   ]
  },
  {
   "cell_type": "code",
   "execution_count": null,
   "id": "fff85b96",
   "metadata": {},
   "outputs": [],
   "source": [
    "# Set PassengerId as index\n",
    "combines_pd.set_index('PassengerId', inplace=True)"
   ]
  },
  {
   "cell_type": "code",
   "execution_count": null,
   "id": "41a56510",
   "metadata": {},
   "outputs": [],
   "source": [
    "# Prepare training data\n",
    "x = one_hot.loc[train_idx].values\n",
    "y = survived.values\n"
   ]
  },
  {
   "cell_type": "code",
   "execution_count": null,
   "id": "f64fdf75",
   "metadata": {},
   "outputs": [],
   "source": [
    "# Scale features\n",
    "from sklearn.preprocessing import MinMaxScaler\n",
    "scaler = MinMaxScaler()\n",
    "x_scaled = scaler.fit_transform(x)\n"
   ]
  },
  {
   "cell_type": "code",
   "execution_count": null,
   "id": "77bf8c85",
   "metadata": {},
   "outputs": [],
   "source": [
    "# Split into train/test sets\n",
    "from sklearn.model_selection import train_test_split\n",
    "x_train, x_test, y_train, y_test = train_test_split(x_scaled, y, test_size=0.2, random_state=0)\n",
    "\n",
    "print(x_train.shape, x_test.shape, y_train.shape, y_test.shape)"
   ]
  },
  {
   "cell_type": "code",
   "execution_count": null,
   "id": "711d305d",
   "metadata": {},
   "outputs": [],
   "source": [
    "# ---- Train with Random Forest Classifier ----\n",
    "from sklearn.ensemble import RandomForestClassifier\n",
    "from sklearn.metrics import accuracy_score\n",
    "from sklearn.model_selection import RandomizedSearchCV, GridSearchCV\n"
   ]
  },
  {
   "cell_type": "code",
   "execution_count": null,
   "id": "cce10973",
   "metadata": {},
   "outputs": [],
   "source": [
    "# Initial training\n",
    "clf = RandomForestClassifier(random_state=0)\n",
    "clf.fit(x_train, y_train)\n",
    "print(\"Initial model accuracy:\", clf.score(x_test, y_test))"
   ]
  },
  {
   "cell_type": "code",
   "execution_count": null,
   "id": "a257c7b6",
   "metadata": {},
   "outputs": [],
   "source": [
    "# Randomized hyperparameter search\n",
    "params = {\n",
    "    'n_estimators': [10, 50, 100],\n",
    "    'max_depth': [10, 30, 40, 45],\n",
    "    'min_samples_split': [5, 10, 30, 50, 56],\n",
    "    'max_features': ['sqrt', 'log2'],\n",
    "    'max_samples': [0.1, 0.15, 0.18, 0.2],\n",
    "    'criterion': ['gini', 'entropy']\n",
    "}\n",
    "\n",
    "rand_search = RandomizedSearchCV(RandomForestClassifier(random_state=0), params, scoring='accuracy', random_state=0, cv=5)\n",
    "rand_search.fit(x_train, y_train)\n",
    "\n",
    "rand_params = rand_search.best_params_\n",
    "print(rand_params)\n",
    "print('Train Acc (CV):', rand_search.best_score_)\n",
    "preds = rand_search.predict(x_test)\n",
    "print('Test Acc:', accuracy_score(preds, y_test))"
   ]
  },
  {
   "cell_type": "code",
   "execution_count": null,
   "id": "67b6ba77",
   "metadata": {},
   "outputs": [],
   "source": [
    "# Random search over wide parameter space\n",
    "params = {\n",
    "    'criterion': ['gini', 'entropy'],\n",
    "    'n_estimators': [20, 50, 100, 200, 300, 400, 500, 800, 1000],\n",
    "    'max_depth': np.arange(3, 50),\n",
    "    'min_samples_split': np.arange(2, 1000),\n",
    "    'max_features': ['sqrt', 'log2'],\n",
    "    'max_samples': np.linspace(0.1, 0.9, 10)\n",
    "}\n",
    "rand_search = RandomizedSearchCV(RandomForestClassifier(random_state=0), params, scoring='accuracy', random_state=0, cv=5)\n",
    "rand_search.fit(x_train, y_train)\n",
    "\n",
    "# Best parameters from random search\n",
    "rand_params = rand_search.best_params_\n",
    "print(rand_params, '\\n')\n",
    "print('Train Acc (CV):', rand_search.best_score_)\n",
    "\n",
    "# Evaluate on test set\n",
    "preds = rand_search.predict(x_test)\n",
    "print('Test Acc:', accuracy_score(preds, y_test))"
   ]
  },
  {
   "cell_type": "code",
   "execution_count": null,
   "id": "9ff9d843",
   "metadata": {},
   "outputs": [],
   "source": [
    "# Grid search around best parameters from random search\n",
    "n_estimators = [rand_params['n_estimators'] - 10, rand_params['n_estimators'], rand_params['n_estimators'] + 10]\n",
    "params = {\n",
    "    'n_estimators': n_estimators,\n",
    "    'max_depth': [rand_params['max_depth']],\n",
    "    'min_samples_split': [rand_params['min_samples_split']],\n",
    "    'max_features': [rand_params['max_features']],\n",
    "    'max_samples': [rand_params['max_samples']],\n",
    "    'criterion': [rand_params['criterion']]\n",
    "}\n",
    "\n",
    "grid_search = GridSearchCV(RandomForestClassifier(random_state=0), params, scoring='accuracy', cv=5)\n",
    "grid_search.fit(x_train, y_train)\n",
    "\n",
    "grid_params = grid_search.best_params_\n",
    "print(grid_params)\n",
    "print('Train Acc (CV):', grid_search.best_score_)\n",
    "preds = grid_search.predict(x_test)\n",
    "print('Test Acc:', accuracy_score(preds, y_test))"
   ]
  },
  {
   "cell_type": "code",
   "execution_count": null,
   "id": "17c9ac99",
   "metadata": {},
   "outputs": [],
   "source": []
  },
  {
   "cell_type": "code",
   "execution_count": null,
   "id": "0ff046a6",
   "metadata": {},
   "outputs": [],
   "source": []
  }
 ],
 "metadata": {
  "kernelspec": {
   "display_name": "Python 3 (ipykernel)",
   "language": "python",
   "name": "python3"
  },
  "language_info": {
   "codemirror_mode": {
    "name": "ipython",
    "version": 3
   },
   "file_extension": ".py",
   "mimetype": "text/x-python",
   "name": "python",
   "nbconvert_exporter": "python",
   "pygments_lexer": "ipython3",
   "version": "3.12.7"
  },
  "toc": {
   "base_numbering": 1,
   "nav_menu": {},
   "number_sections": true,
   "sideBar": true,
   "skip_h1_title": false,
   "title_cell": "Table of Contents",
   "title_sidebar": "Contents",
   "toc_cell": false,
   "toc_position": {},
   "toc_section_display": true,
   "toc_window_display": false
  },
  "varInspector": {
   "cols": {
    "lenName": 16,
    "lenType": 16,
    "lenVar": 40
   },
   "kernels_config": {
    "python": {
     "delete_cmd_postfix": "",
     "delete_cmd_prefix": "del ",
     "library": "var_list.py",
     "varRefreshCmd": "print(var_dic_list())"
    },
    "r": {
     "delete_cmd_postfix": ") ",
     "delete_cmd_prefix": "rm(",
     "library": "var_list.r",
     "varRefreshCmd": "cat(var_dic_list()) "
    }
   },
   "types_to_exclude": [
    "module",
    "function",
    "builtin_function_or_method",
    "instance",
    "_Feature"
   ],
   "window_display": false
  }
 },
 "nbformat": 4,
 "nbformat_minor": 5
}
